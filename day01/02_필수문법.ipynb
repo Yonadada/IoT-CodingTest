{
 "cells": [
  {
   "cell_type": "code",
   "execution_count": 1,
   "id": "aba6585e",
   "metadata": {},
   "outputs": [],
   "source": [
    "a = 3\n",
    "b = 5"
   ]
  },
  {
   "cell_type": "code",
   "execution_count": 2,
   "id": "9e5d77f1",
   "metadata": {},
   "outputs": [
    {
     "data": {
      "text/plain": [
       "0.6"
      ]
     },
     "execution_count": 2,
     "metadata": {},
     "output_type": "execute_result"
    }
   ],
   "source": [
    "a / b"
   ]
  },
  {
   "cell_type": "code",
   "execution_count": 3,
   "id": "3d48b0a9",
   "metadata": {},
   "outputs": [
    {
     "data": {
      "text/plain": [
       "3"
      ]
     },
     "execution_count": 3,
     "metadata": {},
     "output_type": "execute_result"
    }
   ],
   "source": [
    "a % b"
   ]
  },
  {
   "cell_type": "code",
   "execution_count": 4,
   "id": "ebc6092e",
   "metadata": {},
   "outputs": [
    {
     "data": {
      "text/plain": [
       "False"
      ]
     },
     "execution_count": 4,
     "metadata": {},
     "output_type": "execute_result"
    }
   ],
   "source": [
    "a == b"
   ]
  },
  {
   "cell_type": "code",
   "execution_count": 5,
   "id": "91e28ce2",
   "metadata": {},
   "outputs": [
    {
     "data": {
      "text/plain": [
       "True"
      ]
     },
     "execution_count": 5,
     "metadata": {},
     "output_type": "execute_result"
    }
   ],
   "source": [
    "a != b"
   ]
  },
  {
   "cell_type": "code",
   "execution_count": 6,
   "id": "d9963948",
   "metadata": {},
   "outputs": [
    {
     "data": {
      "text/plain": [
       "False"
      ]
     },
     "execution_count": 6,
     "metadata": {},
     "output_type": "execute_result"
    }
   ],
   "source": [
    "a > b"
   ]
  },
  {
   "cell_type": "markdown",
   "id": "c90cc466",
   "metadata": {},
   "source": [
    "## 정수형 비트 연산\n",
    "## 13 -> 1101 / 4 -> 0100\n",
    "\n",
    "a & b "
   ]
  },
  {
   "cell_type": "code",
   "execution_count": 7,
   "id": "471639a0",
   "metadata": {},
   "outputs": [
    {
     "data": {
      "text/plain": [
       "7"
      ]
     },
     "execution_count": 7,
     "metadata": {},
     "output_type": "execute_result"
    }
   ],
   "source": [
    "a | b"
   ]
  },
  {
   "cell_type": "code",
   "execution_count": 9,
   "id": "d69b36b1",
   "metadata": {},
   "outputs": [
    {
     "data": {
      "text/plain": [
       "6"
      ]
     },
     "execution_count": 9,
     "metadata": {},
     "output_type": "execute_result"
    }
   ],
   "source": [
    "a ^ b"
   ]
  },
  {
   "cell_type": "code",
   "execution_count": 10,
   "id": "c94f9d01",
   "metadata": {},
   "outputs": [
    {
     "data": {
      "text/plain": [
       "-4"
      ]
     },
     "execution_count": 10,
     "metadata": {},
     "output_type": "execute_result"
    }
   ],
   "source": [
    "~a"
   ]
  },
  {
   "cell_type": "code",
   "execution_count": 11,
   "id": "d5d5a93d",
   "metadata": {},
   "outputs": [
    {
     "data": {
      "text/plain": [
       "12"
      ]
     },
     "execution_count": 11,
     "metadata": {},
     "output_type": "execute_result"
    }
   ],
   "source": [
    "a << 2 "
   ]
  },
  {
   "cell_type": "code",
   "execution_count": 12,
   "id": "1321fdf1",
   "metadata": {},
   "outputs": [
    {
     "data": {
      "text/plain": [
       "False"
      ]
     },
     "execution_count": 12,
     "metadata": {},
     "output_type": "execute_result"
    }
   ],
   "source": [
    "(a > b) and (a != b)"
   ]
  },
  {
   "cell_type": "code",
   "execution_count": 13,
   "id": "a8d57336",
   "metadata": {},
   "outputs": [
    {
     "data": {
      "text/plain": [
       "False"
      ]
     },
     "execution_count": 13,
     "metadata": {},
     "output_type": "execute_result"
    }
   ],
   "source": [
    "not a"
   ]
  },
  {
   "cell_type": "code",
   "execution_count": 15,
   "id": "1499bf5e",
   "metadata": {},
   "outputs": [
    {
     "data": {
      "text/plain": [
       "True"
      ]
     },
     "execution_count": 15,
     "metadata": {},
     "output_type": "execute_result"
    }
   ],
   "source": [
    "not 0"
   ]
  },
  {
   "cell_type": "code",
   "execution_count": 16,
   "id": "d6dddd9b",
   "metadata": {},
   "outputs": [
    {
     "data": {
      "text/plain": [
       "6.2"
      ]
     },
     "execution_count": 16,
     "metadata": {},
     "output_type": "execute_result"
    }
   ],
   "source": [
    "## 부동소수형\n",
    "2.5 + 3.7"
   ]
  },
  {
   "cell_type": "code",
   "execution_count": 17,
   "id": "363a37b4",
   "metadata": {},
   "outputs": [
    {
     "data": {
      "text/plain": [
       "3.1562499999999996"
      ]
     },
     "execution_count": 17,
     "metadata": {},
     "output_type": "execute_result"
    }
   ],
   "source": [
    "10.1 / 3.2"
   ]
  },
  {
   "cell_type": "code",
   "execution_count": 18,
   "id": "30178f8d",
   "metadata": {},
   "outputs": [
    {
     "data": {
      "text/plain": [
       "3.0"
      ]
     },
     "execution_count": 18,
     "metadata": {},
     "output_type": "execute_result"
    }
   ],
   "source": [
    "10.1 // 3.2 "
   ]
  },
  {
   "cell_type": "code",
   "execution_count": 19,
   "id": "b9233173",
   "metadata": {},
   "outputs": [
    {
     "data": {
      "text/plain": [
       "0.4999999999999991"
      ]
     },
     "execution_count": 19,
     "metadata": {},
     "output_type": "execute_result"
    }
   ],
   "source": [
    "10.1 % 3.2"
   ]
  },
  {
   "cell_type": "markdown",
   "id": "751c710c",
   "metadata": {},
   "source": [
    "### 엡실론을 포함한 연산\n",
    "- 0.1을 3번 더한 값을 0.3으로 뺀다면 ?"
   ]
  },
  {
   "cell_type": "code",
   "execution_count": 20,
   "id": "084b2835",
   "metadata": {},
   "outputs": [],
   "source": [
    "c = 0.1"
   ]
  },
  {
   "cell_type": "code",
   "execution_count": 21,
   "id": "235737ad",
   "metadata": {},
   "outputs": [
    {
     "data": {
      "text/plain": [
       "0.30000000000000004"
      ]
     },
     "execution_count": 21,
     "metadata": {},
     "output_type": "execute_result"
    }
   ],
   "source": [
    "c + c + c"
   ]
  },
  {
   "cell_type": "code",
   "execution_count": 22,
   "id": "6944bd84",
   "metadata": {},
   "outputs": [],
   "source": [
    "sum = c + c + c"
   ]
  },
  {
   "cell_type": "code",
   "execution_count": 23,
   "id": "75c64008",
   "metadata": {},
   "outputs": [
    {
     "data": {
      "text/plain": [
       "5.551115123125783e-17"
      ]
     },
     "execution_count": 23,
     "metadata": {},
     "output_type": "execute_result"
    }
   ],
   "source": [
    "sum -0.3 "
   ]
  },
  {
   "cell_type": "code",
   "execution_count": 24,
   "id": "4e1cfba1",
   "metadata": {},
   "outputs": [
    {
     "data": {
      "text/plain": [
       "2.220446049250313e-16"
      ]
     },
     "execution_count": 24,
     "metadata": {},
     "output_type": "execute_result"
    }
   ],
   "source": [
    "\n",
    "import sys\n",
    "# 엡실론 출력\n",
    "sys.float_info.epsilon"
   ]
  },
  {
   "cell_type": "code",
   "execution_count": 25,
   "id": "0eddfad8",
   "metadata": {},
   "outputs": [],
   "source": [
    "d = 0.1 + 0.1 + 0.1\n",
    "b = 0.3"
   ]
  },
  {
   "cell_type": "code",
   "execution_count": 26,
   "id": "71c9bdfc",
   "metadata": {},
   "outputs": [
    {
     "data": {
      "text/plain": [
       "5.551115123125783e-17"
      ]
     },
     "execution_count": 26,
     "metadata": {},
     "output_type": "execute_result"
    }
   ],
   "source": [
    "d - b "
   ]
  },
  {
   "cell_type": "code",
   "execution_count": null,
   "id": "4492e2b8",
   "metadata": {},
   "outputs": [
    {
     "name": "stdout",
     "output_type": "stream",
     "text": [
      "\n"
     ]
    }
   ],
   "source": [
    "if abs(d-b) < sys.float_info.epsilon:\n",
    "    print(\"동일 수\")\n",
    "else:\n",
    "    print(\"다른 수\")"
   ]
  },
  {
   "cell_type": "markdown",
   "id": "669102f3",
   "metadata": {},
   "source": [
    "### 컬렉션 \n",
    "- 리스트, 튜플, 딕셔너리, set, 문자열 등\n",
    "- Mutable : 변경할 수 있는 객체\n",
    "- Immutable : 변경할 수 없는 객체, 문자열, 튜플"
   ]
  },
  {
   "cell_type": "code",
   "execution_count": null,
   "id": "1e054bc3",
   "metadata": {},
   "outputs": [
    {
     "data": {
      "text/plain": [
       "7"
      ]
     },
     "execution_count": 29,
     "metadata": {},
     "output_type": "execute_result"
    }
   ],
   "source": [
    "nlist = [1,3,5,7,9]\n",
    "nlist[3]   "
   ]
  },
  {
   "cell_type": "code",
   "execution_count": 31,
   "id": "168cd41d",
   "metadata": {},
   "outputs": [],
   "source": [
    "nlist[3] = 8"
   ]
  },
  {
   "cell_type": "markdown",
   "id": "37e644e6",
   "metadata": {},
   "source": [
    "### 이뮤터블"
   ]
  },
  {
   "cell_type": "code",
   "execution_count": 32,
   "id": "450b35f8",
   "metadata": {},
   "outputs": [],
   "source": [
    "ntuple = (1,3,5,7,9)"
   ]
  },
  {
   "cell_type": "code",
   "execution_count": 42,
   "id": "5e868989",
   "metadata": {},
   "outputs": [
    {
     "ename": "TypeError",
     "evalue": "'tuple' object does not support item assignment",
     "output_type": "error",
     "traceback": [
      "\u001b[1;31m---------------------------------------------------------------------------\u001b[0m",
      "\u001b[1;31mTypeError\u001b[0m                                 Traceback (most recent call last)",
      "Cell \u001b[1;32mIn[42], line 1\u001b[0m\n\u001b[1;32m----> 1\u001b[0m \u001b[43mntuple\u001b[49m\u001b[43m[\u001b[49m\u001b[38;5;241;43m3\u001b[39;49m\u001b[43m]\u001b[49m \u001b[38;5;241m=\u001b[39m \u001b[38;5;241m8\u001b[39m \u001b[38;5;66;03m# 튜플은 값을 리스트처럼 변경 할 수 없음!!!\u001b[39;00m\n",
      "\u001b[1;31mTypeError\u001b[0m: 'tuple' object does not support item assignment"
     ]
    }
   ],
   "source": [
    "ntuple[3] = 8 # 튜플은 값을 리스트처럼 변경 할 수 없음!!!"
   ]
  },
  {
   "cell_type": "code",
   "execution_count": 38,
   "id": "b5aa898a",
   "metadata": {},
   "outputs": [
    {
     "data": {
      "text/plain": [
       "'0'"
      ]
     },
     "execution_count": 38,
     "metadata": {},
     "output_type": "execute_result"
    }
   ],
   "source": [
    "mystring = \"Hell0\"\n",
    "mystring[4]"
   ]
  },
  {
   "cell_type": "code",
   "execution_count": 41,
   "id": "9121cdd7",
   "metadata": {},
   "outputs": [
    {
     "ename": "TypeError",
     "evalue": "'str' object does not support item assignment",
     "output_type": "error",
     "traceback": [
      "\u001b[1;31m---------------------------------------------------------------------------\u001b[0m",
      "\u001b[1;31mTypeError\u001b[0m                                 Traceback (most recent call last)",
      "Cell \u001b[1;32mIn[41], line 1\u001b[0m\n\u001b[1;32m----> 1\u001b[0m \u001b[43mmystring\u001b[49m\u001b[43m[\u001b[49m\u001b[38;5;241;43m4\u001b[39;49m\u001b[43m]\u001b[49m \u001b[38;5;241m=\u001b[39m \u001b[38;5;124m'\u001b[39m\u001b[38;5;124m'\u001b[39m  \u001b[38;5;66;03m# 문자열도 요소값을 변경할 수 없음\u001b[39;00m\n",
      "\u001b[1;31mTypeError\u001b[0m: 'str' object does not support item assignment"
     ]
    }
   ],
   "source": [
    "mystring[4] = ''  # 문자열도 요소값을 변경할 수 없음"
   ]
  },
  {
   "cell_type": "code",
   "execution_count": 43,
   "id": "181bfcdb",
   "metadata": {},
   "outputs": [
    {
     "data": {
      "text/plain": [
       "'Hell'"
      ]
     },
     "execution_count": 43,
     "metadata": {},
     "output_type": "execute_result"
    }
   ],
   "source": [
    "mystring[0:4]"
   ]
  },
  {
   "cell_type": "markdown",
   "id": "5ae99fa3",
   "metadata": {},
   "source": [
    "### 리스트"
   ]
  },
  {
   "cell_type": "code",
   "execution_count": 45,
   "id": "026954ea",
   "metadata": {},
   "outputs": [],
   "source": [
    "list1 = [1,2,3,4,5]\n",
    "list2= [1,3,5] + [7,9]\n",
    "list3 = list(list1)"
   ]
  },
  {
   "cell_type": "code",
   "execution_count": 46,
   "id": "4f296fdf",
   "metadata": {},
   "outputs": [
    {
     "data": {
      "text/plain": [
       "[1, 2, 3, 4, 5]"
      ]
     },
     "execution_count": 46,
     "metadata": {},
     "output_type": "execute_result"
    }
   ],
   "source": [
    "list1"
   ]
  },
  {
   "cell_type": "code",
   "execution_count": 47,
   "id": "2e0ec9c3",
   "metadata": {},
   "outputs": [
    {
     "data": {
      "text/plain": [
       "[1, 3, 5, 7, 9]"
      ]
     },
     "execution_count": 47,
     "metadata": {},
     "output_type": "execute_result"
    }
   ],
   "source": [
    "list2"
   ]
  },
  {
   "cell_type": "code",
   "execution_count": 48,
   "id": "34110925",
   "metadata": {},
   "outputs": [
    {
     "data": {
      "text/plain": [
       "[1, 2, 3, 4, 5]"
      ]
     },
     "execution_count": 48,
     "metadata": {},
     "output_type": "execute_result"
    }
   ],
   "source": [
    "list3"
   ]
  },
  {
   "cell_type": "code",
   "execution_count": 49,
   "id": "d9cdea50",
   "metadata": {},
   "outputs": [],
   "source": [
    "nlist2 = list(ntuple)"
   ]
  },
  {
   "cell_type": "code",
   "execution_count": 50,
   "id": "e685ea17",
   "metadata": {},
   "outputs": [],
   "source": [
    "nlist2[4] = 11"
   ]
  },
  {
   "cell_type": "code",
   "execution_count": 51,
   "id": "bfc351f1",
   "metadata": {},
   "outputs": [
    {
     "data": {
      "text/plain": [
       "[1, 3, 5, 7, 11]"
      ]
     },
     "execution_count": 51,
     "metadata": {},
     "output_type": "execute_result"
    }
   ],
   "source": [
    "nlist2"
   ]
  },
  {
   "cell_type": "code",
   "execution_count": 52,
   "id": "5ffa3ad3",
   "metadata": {},
   "outputs": [
    {
     "data": {
      "text/plain": [
       "(1, 3, 5, 7, 11)"
      ]
     },
     "execution_count": 52,
     "metadata": {},
     "output_type": "execute_result"
    }
   ],
   "source": [
    "tuple(nlist2)"
   ]
  },
  {
   "cell_type": "code",
   "execution_count": 53,
   "id": "2ab1be89",
   "metadata": {},
   "outputs": [],
   "source": [
    "nlist2[3] = 7"
   ]
  },
  {
   "cell_type": "code",
   "execution_count": 54,
   "id": "f09a1d08",
   "metadata": {},
   "outputs": [
    {
     "data": {
      "text/plain": [
       "[1, 3, 5, 7, 11]"
      ]
     },
     "execution_count": 54,
     "metadata": {},
     "output_type": "execute_result"
    }
   ],
   "source": [
    "nlist2"
   ]
  },
  {
   "cell_type": "code",
   "execution_count": 55,
   "id": "7ea74690",
   "metadata": {},
   "outputs": [],
   "source": [
    "list4 = [1,2,4]"
   ]
  },
  {
   "cell_type": "code",
   "execution_count": 56,
   "id": "a7d79ee5",
   "metadata": {},
   "outputs": [],
   "source": [
    "list4.append(6)"
   ]
  },
  {
   "cell_type": "code",
   "execution_count": 57,
   "id": "3caaf124",
   "metadata": {},
   "outputs": [
    {
     "data": {
      "text/plain": [
       "[1, 2, 4, 6]"
      ]
     },
     "execution_count": 57,
     "metadata": {},
     "output_type": "execute_result"
    }
   ],
   "source": [
    "list4"
   ]
  },
  {
   "cell_type": "code",
   "execution_count": 58,
   "id": "e71789af",
   "metadata": {},
   "outputs": [],
   "source": [
    "del list4[1]"
   ]
  },
  {
   "cell_type": "code",
   "execution_count": 59,
   "id": "1795e9ee",
   "metadata": {},
   "outputs": [
    {
     "data": {
      "text/plain": [
       "[1, 4, 6]"
      ]
     },
     "execution_count": 59,
     "metadata": {},
     "output_type": "execute_result"
    }
   ],
   "source": [
    "list4"
   ]
  },
  {
   "cell_type": "code",
   "execution_count": 60,
   "id": "93e6080e",
   "metadata": {},
   "outputs": [
    {
     "data": {
      "text/plain": [
       "[1, 3]"
      ]
     },
     "execution_count": 60,
     "metadata": {},
     "output_type": "execute_result"
    }
   ],
   "source": [
    "### 슬라이싱\n",
    "list2[0:2]"
   ]
  },
  {
   "cell_type": "code",
   "execution_count": 61,
   "id": "5758d1d7",
   "metadata": {},
   "outputs": [
    {
     "data": {
      "text/plain": [
       "[5, 7, 9]"
      ]
     },
     "execution_count": 61,
     "metadata": {},
     "output_type": "execute_result"
    }
   ],
   "source": [
    "list2[2:]"
   ]
  },
  {
   "cell_type": "code",
   "execution_count": 62,
   "id": "7d4de051",
   "metadata": {},
   "outputs": [
    {
     "data": {
      "text/plain": [
       "[5]"
      ]
     },
     "execution_count": 62,
     "metadata": {},
     "output_type": "execute_result"
    }
   ],
   "source": [
    "list2[2:3]  #슬라이싱 뒤의 수는 n+1 값이다\n"
   ]
  },
  {
   "cell_type": "code",
   "execution_count": 63,
   "id": "58a5bd44",
   "metadata": {},
   "outputs": [
    {
     "data": {
      "text/plain": [
       "[3, 5]"
      ]
     },
     "execution_count": 63,
     "metadata": {},
     "output_type": "execute_result"
    }
   ],
   "source": [
    "list2[-4:-2]"
   ]
  },
  {
   "cell_type": "markdown",
   "id": "d796b7c9",
   "metadata": {},
   "source": [
    "### 리스트 컴프리헨션"
   ]
  },
  {
   "cell_type": "code",
   "execution_count": 68,
   "id": "179ec3dd",
   "metadata": {},
   "outputs": [],
   "source": [
    "numbers = [x for x in range(21)]"
   ]
  },
  {
   "cell_type": "code",
   "execution_count": 69,
   "id": "5af526bf",
   "metadata": {},
   "outputs": [
    {
     "data": {
      "text/plain": [
       "[0, 1, 2, 3, 4, 5, 6, 7, 8, 9, 10, 11, 12, 13, 14, 15, 16, 17, 18, 19, 20]"
      ]
     },
     "execution_count": 69,
     "metadata": {},
     "output_type": "execute_result"
    }
   ],
   "source": [
    "numbers"
   ]
  },
  {
   "cell_type": "code",
   "execution_count": 70,
   "id": "29cf773c",
   "metadata": {},
   "outputs": [
    {
     "data": {
      "text/plain": [
       "[(0, 0), (0, 1), (0, 2), (1, 0), (1, 1), (1, 2)]"
      ]
     },
     "execution_count": 70,
     "metadata": {},
     "output_type": "execute_result"
    }
   ],
   "source": [
    "cartesian_product = [(x,y) for x in range(2) for y in range(3)]\n",
    "cartesian_product"
   ]
  },
  {
   "cell_type": "code",
   "execution_count": 72,
   "id": "977326ee",
   "metadata": {},
   "outputs": [],
   "source": [
    "# 함수가 포함된 리스트 컴프리헨션\n",
    "def square(x):\n",
    "    return x * x"
   ]
  },
  {
   "cell_type": "code",
   "execution_count": 73,
   "id": "5f24c106",
   "metadata": {},
   "outputs": [
    {
     "data": {
      "text/plain": [
       "[0, 1, 4, 9, 16]"
      ]
     },
     "execution_count": 73,
     "metadata": {},
     "output_type": "execute_result"
    }
   ],
   "source": [
    "squares = [square(x) for x in range(5)]\n",
    "\n",
    "squares"
   ]
  },
  {
   "cell_type": "code",
   "execution_count": 74,
   "id": "4d2c098c",
   "metadata": {},
   "outputs": [
    {
     "data": {
      "text/plain": [
       "[0, 1, 4, 9, 16]"
      ]
     },
     "execution_count": 74,
     "metadata": {},
     "output_type": "execute_result"
    }
   ],
   "source": [
    "squares2 = list(map(lambda x : x* x, range(5)))\n",
    "squares2"
   ]
  },
  {
   "cell_type": "code",
   "execution_count": 75,
   "id": "03bc3ab7",
   "metadata": {},
   "outputs": [
    {
     "data": {
      "text/plain": [
       "[2, 4, 6, 8, 10]"
      ]
     },
     "execution_count": 75,
     "metadata": {},
     "output_type": "execute_result"
    }
   ],
   "source": [
    "# 조건문\n",
    "even_numbers = [x for x in range(1,11) if x % 2 == 0]\n",
    "even_numbers"
   ]
  },
  {
   "cell_type": "code",
   "execution_count": 76,
   "id": "41845251",
   "metadata": {},
   "outputs": [
    {
     "data": {
      "text/plain": [
       "[-1, 2, -3, 4, -5, 6, -7, 8, -9, 10]"
      ]
     },
     "execution_count": 76,
     "metadata": {},
     "output_type": "execute_result"
    }
   ],
   "source": [
    "wired_numbers = [x if x % 2 == 0 else -x for x in range(1,11)]\n",
    "wired_numbers"
   ]
  },
  {
   "cell_type": "markdown",
   "id": "4ef8973a",
   "metadata": {},
   "source": [
    "### 딕셔너리\n",
    "- key 와 value의 쌍을 저장하는 해시 테이블"
   ]
  },
  {
   "cell_type": "code",
   "execution_count": 77,
   "id": "fc08e36e",
   "metadata": {},
   "outputs": [],
   "source": [
    "dict1 = {}"
   ]
  },
  {
   "cell_type": "code",
   "execution_count": 78,
   "id": "b1ad8711",
   "metadata": {},
   "outputs": [],
   "source": [
    "dict1['apple'] = 1"
   ]
  },
  {
   "cell_type": "code",
   "execution_count": 79,
   "id": "ac7b2bdf",
   "metadata": {},
   "outputs": [],
   "source": [
    "dict1['samsung'] = 2\n",
    "dict1['lg'] = 3"
   ]
  },
  {
   "cell_type": "code",
   "execution_count": 80,
   "id": "f48309aa",
   "metadata": {},
   "outputs": [
    {
     "data": {
      "text/plain": [
       "{'apple': 1, 'samsung': 2, 'lg': 3}"
      ]
     },
     "execution_count": 80,
     "metadata": {},
     "output_type": "execute_result"
    }
   ],
   "source": [
    "dict1"
   ]
  },
  {
   "cell_type": "code",
   "execution_count": 81,
   "id": "b61f9adf",
   "metadata": {},
   "outputs": [
    {
     "name": "stdout",
     "output_type": "stream",
     "text": [
      "apple: 1\n"
     ]
    }
   ],
   "source": [
    "key = 'apple'\n",
    "if key in dict1:\n",
    "    value = dict1[key]\n",
    "    print(f'{key}: {value}')\n",
    "else:\n",
    "    print(f'{key} dosent exist')"
   ]
  },
  {
   "cell_type": "code",
   "execution_count": 82,
   "id": "538705b2",
   "metadata": {},
   "outputs": [],
   "source": [
    "dict1['lg'] = 4"
   ]
  },
  {
   "cell_type": "code",
   "execution_count": 83,
   "id": "4fa8991e",
   "metadata": {},
   "outputs": [],
   "source": [
    "del dict1['lg']"
   ]
  },
  {
   "cell_type": "code",
   "execution_count": 84,
   "id": "4e4af7e9",
   "metadata": {},
   "outputs": [
    {
     "data": {
      "text/plain": [
       "{'apple': 1, 'samsung': 2}"
      ]
     },
     "execution_count": 84,
     "metadata": {},
     "output_type": "execute_result"
    }
   ],
   "source": [
    "dict1"
   ]
  },
  {
   "cell_type": "markdown",
   "id": "5ef39577",
   "metadata": {},
   "source": [
    "### set\n",
    "- 집합, 교집합, 합집합 등이 가능"
   ]
  },
  {
   "cell_type": "code",
   "execution_count": 85,
   "id": "65f57a48",
   "metadata": {},
   "outputs": [
    {
     "data": {
      "text/plain": [
       "set()"
      ]
     },
     "execution_count": 85,
     "metadata": {},
     "output_type": "execute_result"
    }
   ],
   "source": [
    "# 초기화\n",
    "empty_set = set()\n",
    "empty_set"
   ]
  },
  {
   "cell_type": "code",
   "execution_count": 86,
   "id": "d0394427",
   "metadata": {},
   "outputs": [
    {
     "data": {
      "text/plain": [
       "[1, 2, 3, 5, 3, 2, 1]"
      ]
     },
     "execution_count": 86,
     "metadata": {},
     "output_type": "execute_result"
    }
   ],
   "source": [
    "[1,2,3,5,3,2,1]"
   ]
  },
  {
   "cell_type": "code",
   "execution_count": 87,
   "id": "0c2cab4b",
   "metadata": {},
   "outputs": [
    {
     "data": {
      "text/plain": [
       "{1, 2, 3, 5}"
      ]
     },
     "execution_count": 87,
     "metadata": {},
     "output_type": "execute_result"
    }
   ],
   "source": [
    "set([1,2,3,5,3,3,2,1]) # set은 중복 제거한다!!"
   ]
  },
  {
   "cell_type": "code",
   "execution_count": 89,
   "id": "9deee02e",
   "metadata": {},
   "outputs": [
    {
     "data": {
      "text/plain": [
       "{1, 6, 7, 12, 14}"
      ]
     },
     "execution_count": 89,
     "metadata": {},
     "output_type": "execute_result"
    }
   ],
   "source": [
    "set1 = {12,14,1,6,7}\n",
    "set1"
   ]
  },
  {
   "cell_type": "code",
   "execution_count": 93,
   "id": "f58a9c56",
   "metadata": {},
   "outputs": [
    {
     "data": {
      "text/plain": [
       "{' ', 'd', 'e', 'h', 'l', 'o', 'r', 'w'}"
      ]
     },
     "execution_count": 93,
     "metadata": {},
     "output_type": "execute_result"
    }
   ],
   "source": [
    "set2 = set(\"hello world\")\n",
    "set2 # ASCII 알파벳 오름차순으로 출력 "
   ]
  },
  {
   "cell_type": "code",
   "execution_count": 95,
   "id": "4e81020e",
   "metadata": {},
   "outputs": [
    {
     "data": {
      "text/plain": [
       "{2, 4, 6, 8, 10}"
      ]
     },
     "execution_count": 95,
     "metadata": {},
     "output_type": "execute_result"
    }
   ],
   "source": [
    "# Set Comprihension\n",
    "compri_set = {x for x in range(1,11) if x % 2 == 0}\n",
    "compri_set"
   ]
  },
  {
   "cell_type": "code",
   "execution_count": 98,
   "id": "ada8ab78",
   "metadata": {},
   "outputs": [],
   "source": [
    "set3 = {1,3,5}"
   ]
  },
  {
   "cell_type": "code",
   "execution_count": 99,
   "id": "0bef5ccf",
   "metadata": {},
   "outputs": [],
   "source": [
    "set3.add(7)"
   ]
  },
  {
   "cell_type": "code",
   "execution_count": 100,
   "id": "059773a4",
   "metadata": {},
   "outputs": [
    {
     "data": {
      "text/plain": [
       "{1, 3, 5, 7}"
      ]
     },
     "execution_count": 100,
     "metadata": {},
     "output_type": "execute_result"
    }
   ],
   "source": [
    "set3"
   ]
  },
  {
   "cell_type": "code",
   "execution_count": 101,
   "id": "a292a051",
   "metadata": {},
   "outputs": [],
   "source": [
    "set3.add(3)"
   ]
  },
  {
   "cell_type": "code",
   "execution_count": 102,
   "id": "a7a35d11",
   "metadata": {},
   "outputs": [
    {
     "data": {
      "text/plain": [
       "{1, 3, 5, 7}"
      ]
     },
     "execution_count": 102,
     "metadata": {},
     "output_type": "execute_result"
    }
   ],
   "source": [
    "set3"
   ]
  },
  {
   "cell_type": "code",
   "execution_count": 103,
   "id": "bbeadf4b",
   "metadata": {},
   "outputs": [],
   "source": [
    "set3.update([9,11,1])"
   ]
  },
  {
   "cell_type": "code",
   "execution_count": 104,
   "id": "789cceeb",
   "metadata": {},
   "outputs": [
    {
     "data": {
      "text/plain": [
       "{1, 3, 5, 7, 9, 11}"
      ]
     },
     "execution_count": 104,
     "metadata": {},
     "output_type": "execute_result"
    }
   ],
   "source": [
    "set3"
   ]
  },
  {
   "cell_type": "code",
   "execution_count": 105,
   "id": "d5e3e914",
   "metadata": {},
   "outputs": [],
   "source": [
    "set3.remove(11)"
   ]
  },
  {
   "cell_type": "code",
   "execution_count": 106,
   "id": "3d257189",
   "metadata": {},
   "outputs": [
    {
     "data": {
      "text/plain": [
       "{1, 3, 5, 7, 9}"
      ]
     },
     "execution_count": 106,
     "metadata": {},
     "output_type": "execute_result"
    }
   ],
   "source": [
    "set3"
   ]
  },
  {
   "cell_type": "code",
   "execution_count": 107,
   "id": "80baf294",
   "metadata": {},
   "outputs": [
    {
     "ename": "KeyError",
     "evalue": "4",
     "output_type": "error",
     "traceback": [
      "\u001b[1;31m---------------------------------------------------------------------------\u001b[0m",
      "\u001b[1;31mKeyError\u001b[0m                                  Traceback (most recent call last)",
      "Cell \u001b[1;32mIn[107], line 1\u001b[0m\n\u001b[1;32m----> 1\u001b[0m \u001b[43mset3\u001b[49m\u001b[38;5;241;43m.\u001b[39;49m\u001b[43mremove\u001b[49m\u001b[43m(\u001b[49m\u001b[38;5;241;43m4\u001b[39;49m\u001b[43m)\u001b[49m\n",
      "\u001b[1;31mKeyError\u001b[0m: 4"
     ]
    }
   ],
   "source": [
    "set3.remove(4)"
   ]
  },
  {
   "cell_type": "code",
   "execution_count": 108,
   "id": "d3b04cd7",
   "metadata": {},
   "outputs": [],
   "source": [
    "set3.discard(4)"
   ]
  },
  {
   "cell_type": "code",
   "execution_count": 109,
   "id": "0c0b4fac",
   "metadata": {},
   "outputs": [],
   "source": [
    "set3.clear(\n",
    ")"
   ]
  },
  {
   "cell_type": "code",
   "execution_count": 111,
   "id": "d1dd12fa",
   "metadata": {},
   "outputs": [
    {
     "data": {
      "text/plain": [
       "set()"
      ]
     },
     "execution_count": 111,
     "metadata": {},
     "output_type": "execute_result"
    }
   ],
   "source": [
    "set3"
   ]
  },
  {
   "cell_type": "markdown",
   "id": "d2d7c36d",
   "metadata": {},
   "source": [
    "### 합집합"
   ]
  },
  {
   "cell_type": "code",
   "execution_count": 112,
   "id": "35935dbd",
   "metadata": {},
   "outputs": [],
   "source": [
    "set5 = {3,4,5}\n",
    "set4 = {1,2,3}"
   ]
  },
  {
   "cell_type": "code",
   "execution_count": 113,
   "id": "b46fdbec",
   "metadata": {},
   "outputs": [
    {
     "data": {
      "text/plain": [
       "{1, 2, 3, 4, 5}"
      ]
     },
     "execution_count": 113,
     "metadata": {},
     "output_type": "execute_result"
    }
   ],
   "source": [
    "union_set = set4.union(set5)\n",
    "union_set"
   ]
  },
  {
   "cell_type": "code",
   "execution_count": 114,
   "id": "ba38d22d",
   "metadata": {},
   "outputs": [],
   "source": [
    "set4 |= set5"
   ]
  },
  {
   "cell_type": "markdown",
   "id": "d9d0b89b",
   "metadata": {},
   "source": [
    "### 교집합"
   ]
  },
  {
   "cell_type": "code",
   "execution_count": 116,
   "id": "10434e59",
   "metadata": {},
   "outputs": [],
   "source": [
    "set5 = {3,4,5}\n",
    "set4 = {1,2,3}"
   ]
  },
  {
   "cell_type": "code",
   "execution_count": 118,
   "id": "de4dba62",
   "metadata": {},
   "outputs": [
    {
     "data": {
      "text/plain": [
       "{3}"
      ]
     },
     "execution_count": 118,
     "metadata": {},
     "output_type": "execute_result"
    }
   ],
   "source": [
    "intersection_set = set4.intersection(set5)\n",
    "intersection_set"
   ]
  },
  {
   "cell_type": "markdown",
   "id": "6192d6bb",
   "metadata": {},
   "source": [
    "### 차집합"
   ]
  },
  {
   "cell_type": "code",
   "execution_count": 119,
   "id": "2ad5fe71",
   "metadata": {},
   "outputs": [],
   "source": [
    "set5 = {3,4,5}\n",
    "set4 = {1,2,3}"
   ]
  },
  {
   "cell_type": "code",
   "execution_count": 120,
   "id": "fb4a2753",
   "metadata": {},
   "outputs": [
    {
     "data": {
      "text/plain": [
       "{1, 2}"
      ]
     },
     "execution_count": 120,
     "metadata": {},
     "output_type": "execute_result"
    }
   ],
   "source": [
    "difference_set = set4.difference(set5)\n",
    "difference_set"
   ]
  }
 ],
 "metadata": {
  "kernelspec": {
   "display_name": "3.11.9",
   "language": "python",
   "name": "python3"
  },
  "language_info": {
   "codemirror_mode": {
    "name": "ipython",
    "version": 3
   },
   "file_extension": ".py",
   "mimetype": "text/x-python",
   "name": "python",
   "nbconvert_exporter": "python",
   "pygments_lexer": "ipython3",
   "version": "3.11.9"
  }
 },
 "nbformat": 4,
 "nbformat_minor": 5
}
